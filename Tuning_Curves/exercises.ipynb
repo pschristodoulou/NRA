{
 "cells": [
  {
   "cell_type": "markdown",
   "metadata": {},
   "source": [
    "# Exercises"
   ]
  },
  {
   "cell_type": "markdown",
   "metadata": {},
   "source": [
    "## Exercise 1 - simulating place cells\n",
    "---\n",
    "Use the code we build to simulate place cells in the lesson.\n",
    "\n",
    "A - Explore what happens when you change the binning in the definition of the firing rate maps (`space_bins`). Make it coarser or broader. \n",
    "\n",
    "\n",
    "B - In the spike train simulations, we add some \"baseline\" noise, not place-related to the firing. Which variable determines the noise level? Try to experiment with that variable and see what happens to the firing rate maps. What is the best approach to firing rate maps when the noise is high.\n",
    "\n",
    "\n",
    "C - We could use other approaches to firing rate maps: for example make the binning very small (down to 1 cm, which is the resolution of our \"video\" data, and then applying a gaussian smoother. Scipy has a Gaussian smoother at `scipy.stats.gaussian_kde`. Read the documentation for that function and apply it to the data to define the smoothed firing rate maps. Again, change the noise levels and see how the smoother changes. \n",
    "\n",
    "D - When analyzing place fields, two important quantities are the place field center and the place field width. The place field center may be defined in many ways, but one is to compute the \"center of mass\" of the spikes according to the equation \n",
    "\n",
    "$$ c_{pf} = \\frac{1}{N_{spikes}} \\sum_{i} L_i $$ \n",
    "\n",
    "where the sum on $i$ runs on all spikes emitted by a cell and $L_i$ is the location at which the i-th spike was emitted. Calculate this for each cell. Compare with the \"true\" place field centers from the simulations (which variables are we talking about?) \n"
   ]
  },
  {
   "cell_type": "markdown",
   "metadata": {},
   "source": [
    "## Exercise 2 - mutual information\n",
    "---\n",
    "A - Implement the mutual information formula discussed in the lesson, and apply it to the place cell data we simulated.\n",
    "\n",
    "B - Adapt the simulation so that you can systematically vary 1) Peak firing rate, 2) place cell size 3) baseline noise. \n",
    "Study how mutual information vary with these parameters. Use both definition of mutual information above, and discuss the differences between them. Make some plots to show how the dependency goes."
   ]
  },
  {
   "cell_type": "markdown",
   "metadata": {},
   "source": [
    "## Exercise 3 - working with real data\n",
    "---\n",
    "Load the data from `linear_track_data.pickle`. It contains neural recordings from a mouse running on a linear track.\n",
    "- `x` contains the position of the animal\n",
    "- `t` contains the corresponding times, in seconds\n",
    "- `spikes` contains a list of lists. Each list contains the timestamps of the spikes emitted by a neuron.\n",
    "\n",
    "A - Visualiaze the position a s a function of time. Plot the spike of a selected cell in space.\n",
    "\n",
    "B - Calculate the firing rate maps for all the cells, and plot them sorted by increasing peak positon.\n",
    "\n",
    "C - Calculate the spatial information for each cell, and plot the distribution. Plot the firing rate maps of the 5 cells with lower spatial information, and the firing rate maps of the 5 cells with higher spatial information. Comment on the differences."
   ]
  }
 ],
 "metadata": {
  "kernelspec": {
   "display_name": "Python 3 (ipykernel)",
   "language": "python",
   "name": "python3"
  },
  "language_info": {
   "codemirror_mode": {
    "name": "ipython",
    "version": 3
   },
   "file_extension": ".py",
   "mimetype": "text/x-python",
   "name": "python",
   "nbconvert_exporter": "python",
   "pygments_lexer": "ipython3",
   "version": "3.11.9"
  },
  "vscode": {
   "interpreter": {
    "hash": "31f2aee4e71d21fbe5cf8b01ff0e069b9275f58929596ceb00d14d90e3e16cd6"
   }
  }
 },
 "nbformat": 4,
 "nbformat_minor": 4
}
