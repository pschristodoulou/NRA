{
 "cells": [
  {
   "cell_type": "markdown",
   "metadata": {},
   "source": [
    "# Exercises"
   ]
  },
  {
   "cell_type": "code",
   "execution_count": 1,
   "metadata": {},
   "outputs": [
    {
     "name": "stdout",
     "output_type": "stream",
     "text": [
      "c:\\Users\\ptrso\\OneDrive\\Desktop\\MasteRU\\Quarter3\\NRA\\Assignments\\LFP\n"
     ]
    }
   ],
   "source": [
    "import numpy as np\n",
    "import pylab as pl\n",
    "import matplotlib.pyplot as plt\n",
    "from matplotlib.patches import Rectangle\n",
    "import psutil\n",
    "from pathlib import Path\n",
    "import os\n",
    "print(os.getcwd())\n",
    "\n",
    "# CaImAn funtions and objects\n",
    "import caiman as cm\n",
    "from caiman.motion_correction import MotionCorrect, high_pass_filter_space\n",
    "from caiman.source_extraction.cnmf import params as params\n",
    "from caiman.source_extraction import cnmf\n",
    "from caiman.source_extraction.cnmf.cnmf import load_CNMF\n",
    "\n",
    "\n",
    "import seaborn as sns\n",
    "# sns.set_theme(context='notebook',style='white',font_scale=1.5)"
   ]
  },
  {
   "cell_type": "code",
   "execution_count": 4,
   "metadata": {},
   "outputs": [],
   "source": [
    "# set path to video of the full field of view\n",
    "input_tif_file_path_FOV = 'data/calcium_video.tif'   \n",
    "input_tif_file_path = 'data/caiman_video_trial_0.tif' "
   ]
  },
  {
   "cell_type": "code",
   "execution_count": 7,
   "metadata": {},
   "outputs": [],
   "source": [
    "original_video = cm.load(input_tif_file_path) # load video with ROI\n",
    "FOV = cm.load(input_tif_file_path_FOV) # load video with complete field of view (FOV)"
   ]
  },
  {
   "cell_type": "code",
   "execution_count": 6,
   "metadata": {},
   "outputs": [],
   "source": [
    "# play video (a new window will open)\n",
    "FOV.play(gain = 1,  #light intensity of video\n",
    "         magnification = 1, #size of display movie\n",
    "         fr = 20) # frame rate at which the movie is played"
   ]
  },
  {
   "cell_type": "markdown",
   "metadata": {},
   "source": [
    "## Exercise 1: Image characteristics\n",
    "---\n",
    "\n",
    "**A.** Distiguishing pixels   \n",
    "\n",
    "Fluctuations in the activitation of the neuron can be directly observed on the video or in a temporal trace plot of each pixel. Plotting the temporal trace will allow us to see the calcium transient dinamic, if a pixel belonging to a neuron is selected. \n",
    "\n",
    "* Select a set of *N* random pixels from the ROI and plot the temporal evolution of pixel value. If the random pixels are choosen from an active neuron, you will be able to see the calcium transcient dynamic. Try this a few time to appreciate the results.\n",
    "\n",
    "**B.** Temporal statistics of pixel activation\n",
    " * For the selected pixels, plot the histogram of pixel value. What are the difference in different regions?, and how can that help to distinguish a pixel that belongs to aneuron from a background pixel?\n",
    "\n",
    "* If we can already see the calcium traces from individual pixels, why do we need to run source extraction to segment the neurons? Why, as a starter, would not be a good idea to work directly with the temporal traces of the pixels? "
   ]
  },
  {
   "cell_type": "code",
   "execution_count": null,
   "metadata": {},
   "outputs": [],
   "source": []
  }
 ],
 "metadata": {
  "kernelspec": {
   "display_name": "caiman",
   "language": "python",
   "name": "python3"
  },
  "language_info": {
   "codemirror_mode": {
    "name": "ipython",
    "version": 3
   },
   "file_extension": ".py",
   "mimetype": "text/x-python",
   "name": "python",
   "nbconvert_exporter": "python",
   "pygments_lexer": "ipython3",
   "version": "3.11.11"
  }
 },
 "nbformat": 4,
 "nbformat_minor": 4
}
