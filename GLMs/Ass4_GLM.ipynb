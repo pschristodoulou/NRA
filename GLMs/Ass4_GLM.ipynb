{
 "cells": [
  {
   "cell_type": "markdown",
   "metadata": {},
   "source": [
    "# Exercises"
   ]
  },
  {
   "cell_type": "markdown",
   "metadata": {},
   "source": [
    "## Exercise 1\n",
    "---\n",
    "Determine the effect of stimulus sequence duration on RF estimates. To do this, repeat the above steps for different durations (5 s, 10 s, 20 s, 40 s, 80 s, 160 s, 320 s, 640 s). Compute the Pearson correlation between true and estimated RFs for each duration to quantify the accuracy of the estimator. The Pearson correlation $\\mathrm{cc}$ is defined as\n",
    "$$\n",
    "\\mathrm{cc} = \\frac{\\mathbf{k}_\\mathrm{true}^T \\hat{\\mathbf{k}}}{\\lVert \\mathbf{k}_\\mathrm{true} \\rVert \\lVert \\hat{\\mathbf{k}} \\rVert}\n",
    "$$\n",
    "where $\\lVert \\cdot \\rVert$ is the L2-norm (vector length).\n",
    "As the response generation process is stochastic, compute the average correlation across 10 realizations for the same duration and plot the average correlation as a function of duration. How is the recording duration related to the ability to recover the true RF? "
   ]
  },
  {
   "cell_type": "code",
   "execution_count": null,
   "metadata": {},
   "outputs": [],
   "source": [
    "import numpy as np\n",
    "import matplotlib.pyplot as plt\n",
    "import random\n",
    "\n",
    "# generation of the stimulus \n",
    "\n",
    "duration = 100.\n",
    "dt = .1\n",
    "std_dev = 1.\n",
    "vf_size = (15,15)\n",
    "n_bins = round(duration / float(dt))\n",
    "\n",
    "S = std_dev * np.random.randn(n_bins,vf_size[0],vf_size[1])"
   ]
  },
  {
   "cell_type": "code",
   "execution_count": 2,
   "metadata": {},
   "outputs": [
    {
     "data": {
      "text/plain": [
       "Text(0, 0.5, 'y')"
      ]
     },
     "execution_count": 2,
     "metadata": {},
     "output_type": "execute_result"
    },
    {
     "data": {
      "image/png": "[encoded data removed]",
      "text/plain": [
       "<Figure size 640x480 with 1 Axes>"
      ]
     },
     "metadata": {},
     "output_type": "display_data"
    }
   ],
   "source": [
    "# Defining the gabor patch\n",
    "\n",
    "size = vf_size # size in pixel of our receptive field\n",
    "mu = (8, 8) # center of the gabor pathc\n",
    "sigma = (4,4) #size of the gabor patch\n",
    "angle = 45 # orientation of the gabor patch\n",
    "frequency = .085 # spatial frequency of the gabor patch\n",
    "phase = 0 # pahse of the gabor pathc\n",
    "\n",
    "\n",
    "xx, yy = np.meshgrid(1. + np.arange(size[0]),\n",
    "                         1. + np.arange(size[1]))\n",
    "\n",
    "# Gaussian envelope\n",
    "G = np.exp(- np.power(xx - mu[0], 2) / (2. * sigma[0])\n",
    "            - np.power(yy - mu[1], 2) / (2. * sigma[1]))\n",
    "\n",
    "# spatial modulation\n",
    "phi = np.deg2rad(angle)\n",
    "xxr = xx * np.cos(phi)\n",
    "yyr = yy * np.sin(phi)\n",
    "xyr = (xxr + yyr) * 2. * np.pi * 2. * frequency\n",
    "Sn = np.cos(xyr + phase)\n",
    "\n",
    "K = G * Sn\n",
    "K /= np.amax(np.abs(K))\n",
    "\n",
    "plt.imshow(K)\n",
    "plt.title(r'Receptive field $\\bf{k}$')\n",
    "plt.xlabel('x')\n",
    "plt.ylabel('y')"
   ]
  },
  {
   "cell_type": "code",
   "execution_count": null,
   "metadata": {},
   "outputs": [],
   "source": [
    "def generate_inhomogeneous_poisson_spikes(lamda, dt): # firing rate and time interval\n",
    "\n",
    "    n_bins = lamda.shape[0]\n",
    "    bins = np.arange(n_bins+1)*dt\n",
    "\n",
    "    # generate Poisson distributed numbers for all bins with the max. intensity (lamda_max)\n",
    "    lamda_max = np.max(lamda)\n",
    "    poisson_numbers = np.random.poisson(lamda_max, size=n_bins) # This is the number of \n",
    "                                                                # spikes generated in bin i assuming the maximum rate λ_max.\n",
    "\n",
    "    # throw away numbers depending on the actual intensity (\"thinning\")\n",
    "    spike_times = []\n",
    "    prob = lamda / lamda_max  # acceptance probability vector depending on lamda nature\n",
    "    for i in range(n_bins):\n",
    "        \n",
    "        # number of spikes to keep in this bin\n",
    "        n = np.sum(np.random.rand(poisson_numbers[i]) < prob[i])  # random vector of length poisson_numbers[i]\n",
    "        n_s = int(round(n * dt))\n",
    "\n",
    "        # This line generates n_s random spike times scaled by dt within the bin starting at bins[i]\n",
    "        ts = bins[i] + np.random.rand(n_s)*dt\n",
    "\n",
    "        spike_times.extend(ts)\n",
    "\n",
    "    return np.asarray(spike_times)\n",
    "\n",
    "from scipy.optimize import minimize\n",
    "\n",
    "# define functions for minimisation\n",
    "def cost(k, spike_counts, S,alpha=1):\n",
    "    #negative loglikelihood function to minimize\n",
    "    ks = np.dot(k, S.T)\n",
    "    lamda = np.exp(ks)\n",
    "    return -np.dot(spike_counts, ks) + dt * np.sum(lamda)\n",
    "    \n",
    "    \n",
    "def grad(k, spike_counts, S):\n",
    "    # expression of the gradient of the negative log likelihood (note the sign is flipped accordingly)\n",
    "\n",
    "    ks = np.dot(k, S.T)\n",
    "    lamda = np.exp(ks)\n",
    "    return -np.dot(S.T, spike_counts - dt*lamda)"
   ]
  },
  {
   "cell_type": "code",
   "execution_count": null,
   "metadata": {},
   "outputs": [
    {
     "name": "stdout",
     "output_type": "stream",
     "text": [
      "Pearson correlation for duration 5.0 s: = 0.354\n",
      "Pearson correlation for duration 10.0 s: = 0.286\n",
      "Pearson correlation for duration 20.0 s: = 0.466\n",
      "Pearson correlation for duration 40.0 s: = 0.731\n",
      "Pearson correlation for duration 80.0 s: = 0.773\n",
      "Pearson correlation for duration 160.0 s: = 0.845\n",
      "Pearson correlation for duration 320.0 s: = 0.812\n",
      "Pearson correlation for duration 640.0 s: = 0.919\n"
     ]
    }
   ],
   "source": [
    "spike_rate = 5 # average firing rate \n",
    "offset = 2. # offset of the linear stage\n",
    "durations = [5., 10., 20., 40., 80., 160., 320., 640.]\n",
    "\n",
    "for d in durations:\n",
    "    # Also depend on the duration of the stimulus\n",
    "    n_bins = round(d / float(dt))\n",
    "    S = std_dev * np.random.randn(n_bins,vf_size[0],vf_size[1])\n",
    "    # --------------------------------------------------\n",
    "    # flatten the matrices in to 1d array for convenience\n",
    "    K_flat = K.ravel()\n",
    "    K_flat = np.hstack((K.flat, offset))\n",
    "\n",
    "    S_flat = S.reshape(S.shape[0],S.shape[1]*S.shape[2])\n",
    "    S_flat = np.hstack((S_flat, np.ones((n_bins, 1))))\n",
    "\n",
    "\n",
    "    # 1. linear stage\n",
    "    ks = np.dot(K_flat, S_flat.T)\n",
    "\n",
    "    # 2. nonlinear stage (for a linear model: f -> identity function)\n",
    "    lamda = np.exp(ks)\n",
    "\n",
    "    # lamda * dt is the number of spikes in the different bins (but keep in mind that the Poisson process\n",
    "    # is a stochastic process so the actual number will differ for every draw). Thus, the sum of the product \n",
    "    # across all bins gives the expected number of spikes for the whole draw.\n",
    "    expected_rate = np.sum(lamda*dt) / duration\n",
    "    lamda *= (spike_rate / expected_rate)\n",
    "\n",
    "    # generate spike times using an inhomogeneous Poisson process\n",
    "    spike_times = generate_inhomogeneous_poisson_spikes(lamda, dt)\n",
    "\n",
    "    # compute spike counts in the different time bins\n",
    "    spike_counts = np.histogram(spike_times,\n",
    "                                bins=np.arange(n_bins+1)*dt)[0]\n",
    "\n",
    "    # print(\"average spike rate: %0.2f spikes per second\" % (len(spike_times) / duration))\n",
    "\n",
    "    k_STA = np.inner(S_flat.T, spike_counts) / np.sum(spike_counts)\n",
    "    res = minimize(fun = cost, x0 = k_STA / 10, args = (spike_counts, S_flat), method = 'Newton-CG', jac = grad)\n",
    "\n",
    "    K_est = res.x\n",
    "    res = np.inner(K.ravel(), K_est[:-1]) / (np.linalg.norm(K.ravel()) * np.linalg.norm(K_est[:-1]))\n",
    "    print(f\"Pearson correlation for duration {d} s: = {res:.3f}\")"
   ]
  },
  {
   "cell_type": "markdown",
   "metadata": {},
   "source": [
    "It is obvious to see that the Pearson correlation becomes better for a longer stimulus duration. This is because n_bins is equal to duration/dt. With longer recordings we have more data, which leads to a better SNR, a more accurate RF estimation and a higher Pearson correlation."
   ]
  },
  {
   "cell_type": "markdown",
   "metadata": {},
   "source": [
    "## Exercise 2\n",
    "---\n",
    "Determine the effect of response noise ($\\sigma^2$) on RF estimates. Try different value for the noise variance in the simulations, e.g., 0, 2, 4, 6, 8, and 10 for a duration of 100 s. As in the previous excercise, repeatedly estimate RF parameters for each condition (10 times) but this time also plot the standard deviation of the correlations across the different runs for each condition."
   ]
  },
  {
   "cell_type": "code",
   "execution_count": 23,
   "metadata": {},
   "outputs": [],
   "source": [
    "# Return to the original stimulus generation\n",
    "duration = 100.\n",
    "n_bins = round(d / float(dt))\n",
    "S = std_dev * np.random.randn(n_bins,vf_size[0],vf_size[1])"
   ]
  },
  {
   "cell_type": "code",
   "execution_count": 29,
   "metadata": {},
   "outputs": [
    {
     "name": "stdout",
     "output_type": "stream",
     "text": [
      "Pearson correlation for variance 0.0: = 0.844\n",
      "Pearson correlation for variance 2.0: = 0.805\n",
      "Pearson correlation for variance 4.0: = 0.731\n",
      "Pearson correlation for variance 6.0: = 0.675\n",
      "Pearson correlation for variance 8.0: = 0.648\n",
      "Pearson correlation for variance 10.0: = 0.519\n"
     ]
    }
   ],
   "source": [
    "response_noises = np.sqrt([0, 2, 4, 6, 8, 10])  # different noise levels\n",
    "N_repeats = 10  # number of repeats for each noise level\n",
    "mean_corrs = []\n",
    "std_corrs = []\n",
    "\n",
    "for noise in response_noises:\n",
    "    results = np.zeros(N_repeats)\n",
    "\n",
    "    for i in range(N_repeats):\n",
    "\n",
    "        # flatten the matrices in to 1d array for convenience\n",
    "        K_flat = K.ravel()\n",
    "        K_flat = np.hstack((K.flat, offset))\n",
    "\n",
    "        S_flat = S.reshape(S.shape[0],S.shape[1]*S.shape[2])\n",
    "        S_flat = np.hstack((S_flat, np.ones((n_bins, 1))))\n",
    "\n",
    "\n",
    "        # 1. linear stage\n",
    "        ks = np.dot(K_flat, S_flat.T)\n",
    "        # add noise to the linear stage response\n",
    "        ks_noisy = ks + np.random.normal(0, noise, size=ks.shape)\n",
    "\n",
    "        # 2. nonlinear stage (for a linear model: f -> identity function)\n",
    "        lamda = np.exp(ks_noisy)\n",
    "\n",
    "        # lamda * dt is the number of spikes in the different bins (but keep in mind that the Poisson process\n",
    "        # is a stochastic process so the actual number will differ for every draw). Thus, the sum of the product \n",
    "        # across all bins gives the expected number of spikes for the whole draw.\n",
    "        expected_rate = np.sum(lamda*dt) / duration\n",
    "        lamda *= (spike_rate / expected_rate)\n",
    "\n",
    "        # generate spike times using an inhomogeneous Poisson process\n",
    "        spike_times = generate_inhomogeneous_poisson_spikes(lamda, dt)\n",
    "\n",
    "        # compute spike counts in the different time bins\n",
    "        spike_counts = np.histogram(spike_times,\n",
    "                                    bins=np.arange(n_bins+1)*dt)[0]\n",
    "\n",
    "        # print(\"average spike rate: %0.2f spikes per second\" % (len(spike_times) / duration))\n",
    "\n",
    "        k_STA = np.inner(S_flat.T, spike_counts) / np.sum(spike_counts)\n",
    "        res = minimize(fun = cost, x0 = k_STA / 10, args = (spike_counts, S_flat), method = 'L-BFGS-B', jac = grad) # change method to L-BFGS-B \n",
    "                                                                                                                    # for better performance with larger problems\n",
    "\n",
    "        K_est = res.x\n",
    "        results[i] = np.inner(K.ravel(), K_est[:-1]) / (np.linalg.norm(K.ravel()) * np.linalg.norm(K_est[:-1]))\n",
    "    # Store the mean and standard deviation for plotting\n",
    "    mean_corrs.append(np.mean(results))\n",
    "    std_corrs.append(np.std(results))\n",
    "    print(f\"Pearson correlation for variance {noise**2:.1f}: = {np.mean(results):.3f}\")\n",
    "            "
   ]
  },
  {
   "cell_type": "code",
   "execution_count": 36,
   "metadata": {},
   "outputs": [
    {
     "data": {
      "image/png": "[encoded data removed]",
      "text/plain": [
       "<Figure size 1000x600 with 1 Axes>"
      ]
     },
     "metadata": {},
     "output_type": "display_data"
    }
   ],
   "source": [
    "variances = response_noises**2\n",
    "plt.figure(figsize=(10, 6))\n",
    "plt.errorbar(variances, mean_corrs, yerr=std_corrs, fmt='-o', capsize=4)\n",
    "plt.xlabel('Response noise variance σ²')\n",
    "plt.ylabel('Pearson correlation (mean ± std)')\n",
    "plt.title('Effect of response noise on RF estimation')\n",
    "plt.grid(True)\n",
    "plt.show()"
   ]
  },
  {
   "cell_type": "markdown",
   "metadata": {},
   "source": [
    "As response noise increases, the Pearson correlation decreases, indicating that higher noise levels make it harder to accurately estimate the receptive field."
   ]
  },
  {
   "attachments": {},
   "cell_type": "markdown",
   "metadata": {},
   "source": [
    "## Exercise 3\n",
    "---\n",
    "Look at the analytical derivation of the log-likelihood for the poisson GLM.\n",
    "Which of the terms are required for maximizing the likelihood with respect to $\\mathbf{k}$ and which terms can be ignored? **Note:** due to the independence of spikes in the different bins, the likelihood can be written as $P(R | S, \\mathbf{k}) = \\prod_t^T P(r_t | \\mathbf{s}_t, \\mathbf{k})$. The log turns the product into a sum which makes life much easier. \n",
    "\n",
    "### Answer\n",
    "The terms that are required to maximize the log-likelihood with respect to $\\mathbf{k}$ are $ \\sum_t r_t \\log(\\lambda_t )$ and $ - \\sum_t \\log(\\lambda_t \\Delta t) $ since $\\lambda$ depends on the filter vector $\\mathbf{k}$. These become:\n",
    "$$ \\sum_t r_t \\, \\mathbf{k}^\\top \\mathbf{s}_t \\\\\n",
    " \\sum_t \\exp(\\mathbf{k}^\\top \\mathbf{s}_t) \\, \\Delta t $$\n",
    " The other two terms are constant to $\\mathbf{k}$ and can be ignored during optimization.\n",
    "<!-- \\mathbf{k}^\\top \\mathbf{s}_t -->"
   ]
  },
  {
   "attachments": {},
   "cell_type": "markdown",
   "metadata": {},
   "source": [
    "## Exercise 4\n",
    "---\n",
    "Explore the effect of the data duration and the firing rate on the goodness of fit of the Poisson GLM.\n",
    "\n",
    "A - Generate data with durations of 10,20,50,100 and 200 seconds. Fit the model on each dataset and plot the fitted parameters.\n",
    "Use the pearson correlation as a proxy of the goodness of fit, and plot it as a function of the duration of the data.\n",
    "\n",
    "B - Fix the duration to 100s, and change the average firing rate of the simulation. How does the fit perform for different firing rates? "
   ]
  }
 ],
 "metadata": {
  "kernelspec": {
   "display_name": "Python 3",
   "language": "python",
   "name": "python3"
  },
  "language_info": {
   "codemirror_mode": {
    "name": "ipython",
    "version": 3
   },
   "file_extension": ".py",
   "mimetype": "text/x-python",
   "name": "python",
   "nbconvert_exporter": "python",
   "pygments_lexer": "ipython3",
   "version": "3.13.2"
  }
 },
 "nbformat": 4,
 "nbformat_minor": 4
}
